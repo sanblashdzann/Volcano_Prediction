{
  "cells": [
    {
      "cell_type": "markdown",
      "metadata": {
        "id": "tCVtKABLLfLB"
      },
      "source": [
        "###LSTM"
      ]
    },
    {
      "cell_type": "code",
      "execution_count": 1,
      "metadata": {
        "colab": {
          "base_uri": "https://localhost:8080/"
        },
        "id": "DNmBmi3EHfHN",
        "outputId": "2649611e-ad33-452c-a149-b2ac331e82b5"
      },
      "outputs": [
        {
          "output_type": "stream",
          "name": "stdout",
          "text": [
            "Memoria disponible: 12.333109248 GB\n"
          ]
        }
      ],
      "source": [
        "import psutil\n",
        "print(f\"Memoria disponible: {psutil.virtual_memory().available / 1e9} GB\")"
      ]
    },
    {
      "cell_type": "code",
      "execution_count": 2,
      "metadata": {
        "id": "JdiX2BardXWd"
      },
      "outputs": [],
      "source": [
        "import numpy as np\n",
        "import pandas as pd\n",
        "import tensorflow as tf\n",
        "from tensorflow.keras.models import Sequential\n",
        "from tensorflow.keras.layers import Bidirectional, LSTM, Dense, Dropout\n",
        "from sklearn.preprocessing import MinMaxScaler\n",
        "from sklearn.model_selection import train_test_split"
      ]
    },
    {
      "cell_type": "code",
      "execution_count": 3,
      "metadata": {
        "id": "BcUAF3keI9AT"
      },
      "outputs": [],
      "source": [
        "#data = pd.read_csv(\"Datos_ConT.csv\")\n",
        "#data = pd.read_csv(\"Datos_Con5TResampled.csv\")\n",
        "#data = pd.read_csv(\"Datos_Con10TResampled.csv\")\n",
        "#data = pd.read_csv(\"Datos_Con30TResampled.csv\")\n",
        "data = pd.read_csv(\"Datos_Con1HResampled.csv\")\n",
        "#data = pd.read_csv(\"Datos_Con2HResampled.csv\")"
      ]
    },
    {
      "cell_type": "code",
      "execution_count": 4,
      "metadata": {
        "colab": {
          "base_uri": "https://localhost:8080/",
          "height": 206
        },
        "id": "zLo-WXQoNlZb",
        "outputId": "9fb52fd3-3ad1-414b-ba7b-3b9c9a4c3278"
      },
      "outputs": [
        {
          "output_type": "execute_result",
          "data": {
            "text/plain": [
              "             DateTime_  ErrTime   RMS    Az  Depth  ErrDepth  Ndef    Gap  \\\n",
              "0  2017-10-07 10:00:00     2.18  0.19  81.0   21.6      12.7   9.0  189.0   \n",
              "1  2017-10-07 11:00:00     0.00  0.00   0.0    0.0       0.0   0.0    0.0   \n",
              "2  2017-10-07 12:00:00     0.00  0.00   0.0    0.0       0.0   0.0    0.0   \n",
              "3  2017-10-07 13:00:00     2.19  0.20  67.0   28.2      13.0   8.0  149.0   \n",
              "4  2017-10-07 14:00:00     0.00  0.00   0.0    0.0       0.0   0.0    0.0   \n",
              "\n",
              "   mdist  Mdist_  Magnitud  \n",
              "0   0.02    0.20       1.6  \n",
              "1   0.00    0.00       0.0  \n",
              "2   0.00    0.00       0.0  \n",
              "3   0.03    0.13       2.7  \n",
              "4   0.00    0.00       0.0  "
            ],
            "text/html": [
              "\n",
              "  <div id=\"df-e2783755-5954-4ea3-9bbe-49726820fd84\" class=\"colab-df-container\">\n",
              "    <div>\n",
              "<style scoped>\n",
              "    .dataframe tbody tr th:only-of-type {\n",
              "        vertical-align: middle;\n",
              "    }\n",
              "\n",
              "    .dataframe tbody tr th {\n",
              "        vertical-align: top;\n",
              "    }\n",
              "\n",
              "    .dataframe thead th {\n",
              "        text-align: right;\n",
              "    }\n",
              "</style>\n",
              "<table border=\"1\" class=\"dataframe\">\n",
              "  <thead>\n",
              "    <tr style=\"text-align: right;\">\n",
              "      <th></th>\n",
              "      <th>DateTime_</th>\n",
              "      <th>ErrTime</th>\n",
              "      <th>RMS</th>\n",
              "      <th>Az</th>\n",
              "      <th>Depth</th>\n",
              "      <th>ErrDepth</th>\n",
              "      <th>Ndef</th>\n",
              "      <th>Gap</th>\n",
              "      <th>mdist</th>\n",
              "      <th>Mdist_</th>\n",
              "      <th>Magnitud</th>\n",
              "    </tr>\n",
              "  </thead>\n",
              "  <tbody>\n",
              "    <tr>\n",
              "      <th>0</th>\n",
              "      <td>2017-10-07 10:00:00</td>\n",
              "      <td>2.18</td>\n",
              "      <td>0.19</td>\n",
              "      <td>81.0</td>\n",
              "      <td>21.6</td>\n",
              "      <td>12.7</td>\n",
              "      <td>9.0</td>\n",
              "      <td>189.0</td>\n",
              "      <td>0.02</td>\n",
              "      <td>0.20</td>\n",
              "      <td>1.6</td>\n",
              "    </tr>\n",
              "    <tr>\n",
              "      <th>1</th>\n",
              "      <td>2017-10-07 11:00:00</td>\n",
              "      <td>0.00</td>\n",
              "      <td>0.00</td>\n",
              "      <td>0.0</td>\n",
              "      <td>0.0</td>\n",
              "      <td>0.0</td>\n",
              "      <td>0.0</td>\n",
              "      <td>0.0</td>\n",
              "      <td>0.00</td>\n",
              "      <td>0.00</td>\n",
              "      <td>0.0</td>\n",
              "    </tr>\n",
              "    <tr>\n",
              "      <th>2</th>\n",
              "      <td>2017-10-07 12:00:00</td>\n",
              "      <td>0.00</td>\n",
              "      <td>0.00</td>\n",
              "      <td>0.0</td>\n",
              "      <td>0.0</td>\n",
              "      <td>0.0</td>\n",
              "      <td>0.0</td>\n",
              "      <td>0.0</td>\n",
              "      <td>0.00</td>\n",
              "      <td>0.00</td>\n",
              "      <td>0.0</td>\n",
              "    </tr>\n",
              "    <tr>\n",
              "      <th>3</th>\n",
              "      <td>2017-10-07 13:00:00</td>\n",
              "      <td>2.19</td>\n",
              "      <td>0.20</td>\n",
              "      <td>67.0</td>\n",
              "      <td>28.2</td>\n",
              "      <td>13.0</td>\n",
              "      <td>8.0</td>\n",
              "      <td>149.0</td>\n",
              "      <td>0.03</td>\n",
              "      <td>0.13</td>\n",
              "      <td>2.7</td>\n",
              "    </tr>\n",
              "    <tr>\n",
              "      <th>4</th>\n",
              "      <td>2017-10-07 14:00:00</td>\n",
              "      <td>0.00</td>\n",
              "      <td>0.00</td>\n",
              "      <td>0.0</td>\n",
              "      <td>0.0</td>\n",
              "      <td>0.0</td>\n",
              "      <td>0.0</td>\n",
              "      <td>0.0</td>\n",
              "      <td>0.00</td>\n",
              "      <td>0.00</td>\n",
              "      <td>0.0</td>\n",
              "    </tr>\n",
              "  </tbody>\n",
              "</table>\n",
              "</div>\n",
              "    <div class=\"colab-df-buttons\">\n",
              "\n",
              "  <div class=\"colab-df-container\">\n",
              "    <button class=\"colab-df-convert\" onclick=\"convertToInteractive('df-e2783755-5954-4ea3-9bbe-49726820fd84')\"\n",
              "            title=\"Convert this dataframe to an interactive table.\"\n",
              "            style=\"display:none;\">\n",
              "\n",
              "  <svg xmlns=\"http://www.w3.org/2000/svg\" height=\"24px\" viewBox=\"0 -960 960 960\">\n",
              "    <path d=\"M120-120v-720h720v720H120Zm60-500h600v-160H180v160Zm220 220h160v-160H400v160Zm0 220h160v-160H400v160ZM180-400h160v-160H180v160Zm440 0h160v-160H620v160ZM180-180h160v-160H180v160Zm440 0h160v-160H620v160Z\"/>\n",
              "  </svg>\n",
              "    </button>\n",
              "\n",
              "  <style>\n",
              "    .colab-df-container {\n",
              "      display:flex;\n",
              "      gap: 12px;\n",
              "    }\n",
              "\n",
              "    .colab-df-convert {\n",
              "      background-color: #E8F0FE;\n",
              "      border: none;\n",
              "      border-radius: 50%;\n",
              "      cursor: pointer;\n",
              "      display: none;\n",
              "      fill: #1967D2;\n",
              "      height: 32px;\n",
              "      padding: 0 0 0 0;\n",
              "      width: 32px;\n",
              "    }\n",
              "\n",
              "    .colab-df-convert:hover {\n",
              "      background-color: #E2EBFA;\n",
              "      box-shadow: 0px 1px 2px rgba(60, 64, 67, 0.3), 0px 1px 3px 1px rgba(60, 64, 67, 0.15);\n",
              "      fill: #174EA6;\n",
              "    }\n",
              "\n",
              "    .colab-df-buttons div {\n",
              "      margin-bottom: 4px;\n",
              "    }\n",
              "\n",
              "    [theme=dark] .colab-df-convert {\n",
              "      background-color: #3B4455;\n",
              "      fill: #D2E3FC;\n",
              "    }\n",
              "\n",
              "    [theme=dark] .colab-df-convert:hover {\n",
              "      background-color: #434B5C;\n",
              "      box-shadow: 0px 1px 3px 1px rgba(0, 0, 0, 0.15);\n",
              "      filter: drop-shadow(0px 1px 2px rgba(0, 0, 0, 0.3));\n",
              "      fill: #FFFFFF;\n",
              "    }\n",
              "  </style>\n",
              "\n",
              "    <script>\n",
              "      const buttonEl =\n",
              "        document.querySelector('#df-e2783755-5954-4ea3-9bbe-49726820fd84 button.colab-df-convert');\n",
              "      buttonEl.style.display =\n",
              "        google.colab.kernel.accessAllowed ? 'block' : 'none';\n",
              "\n",
              "      async function convertToInteractive(key) {\n",
              "        const element = document.querySelector('#df-e2783755-5954-4ea3-9bbe-49726820fd84');\n",
              "        const dataTable =\n",
              "          await google.colab.kernel.invokeFunction('convertToInteractive',\n",
              "                                                    [key], {});\n",
              "        if (!dataTable) return;\n",
              "\n",
              "        const docLinkHtml = 'Like what you see? Visit the ' +\n",
              "          '<a target=\"_blank\" href=https://colab.research.google.com/notebooks/data_table.ipynb>data table notebook</a>'\n",
              "          + ' to learn more about interactive tables.';\n",
              "        element.innerHTML = '';\n",
              "        dataTable['output_type'] = 'display_data';\n",
              "        await google.colab.output.renderOutput(dataTable, element);\n",
              "        const docLink = document.createElement('div');\n",
              "        docLink.innerHTML = docLinkHtml;\n",
              "        element.appendChild(docLink);\n",
              "      }\n",
              "    </script>\n",
              "  </div>\n",
              "\n",
              "\n",
              "    <div id=\"df-938ea2c9-9469-4882-b665-9514cabd05be\">\n",
              "      <button class=\"colab-df-quickchart\" onclick=\"quickchart('df-938ea2c9-9469-4882-b665-9514cabd05be')\"\n",
              "                title=\"Suggest charts\"\n",
              "                style=\"display:none;\">\n",
              "\n",
              "<svg xmlns=\"http://www.w3.org/2000/svg\" height=\"24px\"viewBox=\"0 0 24 24\"\n",
              "     width=\"24px\">\n",
              "    <g>\n",
              "        <path d=\"M19 3H5c-1.1 0-2 .9-2 2v14c0 1.1.9 2 2 2h14c1.1 0 2-.9 2-2V5c0-1.1-.9-2-2-2zM9 17H7v-7h2v7zm4 0h-2V7h2v10zm4 0h-2v-4h2v4z\"/>\n",
              "    </g>\n",
              "</svg>\n",
              "      </button>\n",
              "\n",
              "<style>\n",
              "  .colab-df-quickchart {\n",
              "      --bg-color: #E8F0FE;\n",
              "      --fill-color: #1967D2;\n",
              "      --hover-bg-color: #E2EBFA;\n",
              "      --hover-fill-color: #174EA6;\n",
              "      --disabled-fill-color: #AAA;\n",
              "      --disabled-bg-color: #DDD;\n",
              "  }\n",
              "\n",
              "  [theme=dark] .colab-df-quickchart {\n",
              "      --bg-color: #3B4455;\n",
              "      --fill-color: #D2E3FC;\n",
              "      --hover-bg-color: #434B5C;\n",
              "      --hover-fill-color: #FFFFFF;\n",
              "      --disabled-bg-color: #3B4455;\n",
              "      --disabled-fill-color: #666;\n",
              "  }\n",
              "\n",
              "  .colab-df-quickchart {\n",
              "    background-color: var(--bg-color);\n",
              "    border: none;\n",
              "    border-radius: 50%;\n",
              "    cursor: pointer;\n",
              "    display: none;\n",
              "    fill: var(--fill-color);\n",
              "    height: 32px;\n",
              "    padding: 0;\n",
              "    width: 32px;\n",
              "  }\n",
              "\n",
              "  .colab-df-quickchart:hover {\n",
              "    background-color: var(--hover-bg-color);\n",
              "    box-shadow: 0 1px 2px rgba(60, 64, 67, 0.3), 0 1px 3px 1px rgba(60, 64, 67, 0.15);\n",
              "    fill: var(--button-hover-fill-color);\n",
              "  }\n",
              "\n",
              "  .colab-df-quickchart-complete:disabled,\n",
              "  .colab-df-quickchart-complete:disabled:hover {\n",
              "    background-color: var(--disabled-bg-color);\n",
              "    fill: var(--disabled-fill-color);\n",
              "    box-shadow: none;\n",
              "  }\n",
              "\n",
              "  .colab-df-spinner {\n",
              "    border: 2px solid var(--fill-color);\n",
              "    border-color: transparent;\n",
              "    border-bottom-color: var(--fill-color);\n",
              "    animation:\n",
              "      spin 1s steps(1) infinite;\n",
              "  }\n",
              "\n",
              "  @keyframes spin {\n",
              "    0% {\n",
              "      border-color: transparent;\n",
              "      border-bottom-color: var(--fill-color);\n",
              "      border-left-color: var(--fill-color);\n",
              "    }\n",
              "    20% {\n",
              "      border-color: transparent;\n",
              "      border-left-color: var(--fill-color);\n",
              "      border-top-color: var(--fill-color);\n",
              "    }\n",
              "    30% {\n",
              "      border-color: transparent;\n",
              "      border-left-color: var(--fill-color);\n",
              "      border-top-color: var(--fill-color);\n",
              "      border-right-color: var(--fill-color);\n",
              "    }\n",
              "    40% {\n",
              "      border-color: transparent;\n",
              "      border-right-color: var(--fill-color);\n",
              "      border-top-color: var(--fill-color);\n",
              "    }\n",
              "    60% {\n",
              "      border-color: transparent;\n",
              "      border-right-color: var(--fill-color);\n",
              "    }\n",
              "    80% {\n",
              "      border-color: transparent;\n",
              "      border-right-color: var(--fill-color);\n",
              "      border-bottom-color: var(--fill-color);\n",
              "    }\n",
              "    90% {\n",
              "      border-color: transparent;\n",
              "      border-bottom-color: var(--fill-color);\n",
              "    }\n",
              "  }\n",
              "</style>\n",
              "\n",
              "      <script>\n",
              "        async function quickchart(key) {\n",
              "          const quickchartButtonEl =\n",
              "            document.querySelector('#' + key + ' button');\n",
              "          quickchartButtonEl.disabled = true;  // To prevent multiple clicks.\n",
              "          quickchartButtonEl.classList.add('colab-df-spinner');\n",
              "          try {\n",
              "            const charts = await google.colab.kernel.invokeFunction(\n",
              "                'suggestCharts', [key], {});\n",
              "          } catch (error) {\n",
              "            console.error('Error during call to suggestCharts:', error);\n",
              "          }\n",
              "          quickchartButtonEl.classList.remove('colab-df-spinner');\n",
              "          quickchartButtonEl.classList.add('colab-df-quickchart-complete');\n",
              "        }\n",
              "        (() => {\n",
              "          let quickchartButtonEl =\n",
              "            document.querySelector('#df-938ea2c9-9469-4882-b665-9514cabd05be button');\n",
              "          quickchartButtonEl.style.display =\n",
              "            google.colab.kernel.accessAllowed ? 'block' : 'none';\n",
              "        })();\n",
              "      </script>\n",
              "    </div>\n",
              "\n",
              "    </div>\n",
              "  </div>\n"
            ],
            "application/vnd.google.colaboratory.intrinsic+json": {
              "type": "dataframe",
              "variable_name": "data",
              "summary": "{\n  \"name\": \"data\",\n  \"rows\": 38085,\n  \"fields\": [\n    {\n      \"column\": \"DateTime_\",\n      \"properties\": {\n        \"dtype\": \"object\",\n        \"num_unique_values\": 38085,\n        \"samples\": [\n          \"2021-09-19 21:00:00\",\n          \"2019-11-07 00:00:00\",\n          \"2021-09-05 19:00:00\"\n        ],\n        \"semantic_type\": \"\",\n        \"description\": \"\"\n      }\n    },\n    {\n      \"column\": \"ErrTime\",\n      \"properties\": {\n        \"dtype\": \"number\",\n        \"std\": 0.35753770550372177,\n        \"min\": 0.0,\n        \"max\": 6.31,\n        \"num_unique_values\": 262,\n        \"samples\": [\n          0.35,\n          0.79,\n          0.77\n        ],\n        \"semantic_type\": \"\",\n        \"description\": \"\"\n      }\n    },\n    {\n      \"column\": \"RMS\",\n      \"properties\": {\n        \"dtype\": \"number\",\n        \"std\": 0.1229340110898196,\n        \"min\": 0.0,\n        \"max\": 2.0,\n        \"num_unique_values\": 153,\n        \"samples\": [\n          1.37,\n          1.46,\n          1.8\n        ],\n        \"semantic_type\": \"\",\n        \"description\": \"\"\n      }\n    },\n    {\n      \"column\": \"Az\",\n      \"properties\": {\n        \"dtype\": \"number\",\n        \"std\": 22.250802945431655,\n        \"min\": 0.0,\n        \"max\": 178.0,\n        \"num_unique_values\": 155,\n        \"samples\": [\n          73.0,\n          129.0,\n          71.0\n        ],\n        \"semantic_type\": \"\",\n        \"description\": \"\"\n      }\n    },\n    {\n      \"column\": \"Depth\",\n      \"properties\": {\n        \"dtype\": \"number\",\n        \"std\": 5.285693365425218,\n        \"min\": 0.0,\n        \"max\": 91.5,\n        \"num_unique_values\": 393,\n        \"samples\": [\n          4.8,\n          36.1,\n          1.7\n        ],\n        \"semantic_type\": \"\",\n        \"description\": \"\"\n      }\n    },\n    {\n      \"column\": \"ErrDepth\",\n      \"properties\": {\n        \"dtype\": \"number\",\n        \"std\": 2.693092695930506,\n        \"min\": 0.0,\n        \"max\": 90.8,\n        \"num_unique_values\": 259,\n        \"samples\": [\n          20.0,\n          19.7,\n          12.3\n        ],\n        \"semantic_type\": \"\",\n        \"description\": \"\"\n      }\n    },\n    {\n      \"column\": \"Ndef\",\n      \"properties\": {\n        \"dtype\": \"number\",\n        \"std\": 7.080843827309378,\n        \"min\": 0.0,\n        \"max\": 80.0,\n        \"num_unique_values\": 69,\n        \"samples\": [\n          5.0,\n          9.0,\n          31.0\n        ],\n        \"semantic_type\": \"\",\n        \"description\": \"\"\n      }\n    },\n    {\n      \"column\": \"Gap\",\n      \"properties\": {\n        \"dtype\": \"number\",\n        \"std\": 43.662472955505045,\n        \"min\": 0.0,\n        \"max\": 348.0,\n        \"num_unique_values\": 274,\n        \"samples\": [\n          223.0,\n          200.0,\n          305.0\n        ],\n        \"semantic_type\": \"\",\n        \"description\": \"\"\n      }\n    },\n    {\n      \"column\": \"mdist\",\n      \"properties\": {\n        \"dtype\": \"number\",\n        \"std\": 0.018061900921189967,\n        \"min\": 0.0,\n        \"max\": 1.21,\n        \"num_unique_values\": 43,\n        \"samples\": [\n          0.32,\n          0.11,\n          0.92\n        ],\n        \"semantic_type\": \"\",\n        \"description\": \"\"\n      }\n    },\n    {\n      \"column\": \"Mdist_\",\n      \"properties\": {\n        \"dtype\": \"number\",\n        \"std\": 0.3236801707405856,\n        \"min\": 0.0,\n        \"max\": 4.28,\n        \"num_unique_values\": 207,\n        \"samples\": [\n          3.33,\n          0.18,\n          1.29\n        ],\n        \"semantic_type\": \"\",\n        \"description\": \"\"\n      }\n    },\n    {\n      \"column\": \"Magnitud\",\n      \"properties\": {\n        \"dtype\": \"number\",\n        \"std\": 0.6987939506900593,\n        \"min\": 0.0,\n        \"max\": 5.1,\n        \"num_unique_values\": 48,\n        \"samples\": [\n          3.1,\n          4.3,\n          3.2\n        ],\n        \"semantic_type\": \"\",\n        \"description\": \"\"\n      }\n    }\n  ]\n}"
            }
          },
          "metadata": {},
          "execution_count": 4
        }
      ],
      "source": [
        "data.head()"
      ]
    },
    {
      "cell_type": "code",
      "execution_count": 5,
      "metadata": {
        "id": "W-7qUanTNr3P"
      },
      "outputs": [],
      "source": [
        "# Mover la columna \"Magnitud\" a la posición 0\n",
        "magnitud_column = data['Magnitud']\n",
        "data = data.drop('Magnitud', axis=1)\n",
        "data.insert(0, 'Magnitud', magnitud_column)\n"
      ]
    },
    {
      "cell_type": "code",
      "execution_count": 6,
      "metadata": {
        "colab": {
          "base_uri": "https://localhost:8080/",
          "height": 206
        },
        "id": "LUI5D_O6JTlM",
        "outputId": "703c498a-d729-404a-fcf4-ddfd44e9f80d"
      },
      "outputs": [
        {
          "output_type": "execute_result",
          "data": {
            "text/plain": [
              "   Magnitud            DateTime_  ErrTime   RMS    Az  Depth  ErrDepth  Ndef  \\\n",
              "0       1.6  2017-10-07 10:00:00     2.18  0.19  81.0   21.6      12.7   9.0   \n",
              "1       0.0  2017-10-07 11:00:00     0.00  0.00   0.0    0.0       0.0   0.0   \n",
              "2       0.0  2017-10-07 12:00:00     0.00  0.00   0.0    0.0       0.0   0.0   \n",
              "3       2.7  2017-10-07 13:00:00     2.19  0.20  67.0   28.2      13.0   8.0   \n",
              "4       0.0  2017-10-07 14:00:00     0.00  0.00   0.0    0.0       0.0   0.0   \n",
              "\n",
              "     Gap  mdist  Mdist_  \n",
              "0  189.0   0.02    0.20  \n",
              "1    0.0   0.00    0.00  \n",
              "2    0.0   0.00    0.00  \n",
              "3  149.0   0.03    0.13  \n",
              "4    0.0   0.00    0.00  "
            ],
            "text/html": [
              "\n",
              "  <div id=\"df-1762816a-b9a1-4862-ae8b-165ef67ad862\" class=\"colab-df-container\">\n",
              "    <div>\n",
              "<style scoped>\n",
              "    .dataframe tbody tr th:only-of-type {\n",
              "        vertical-align: middle;\n",
              "    }\n",
              "\n",
              "    .dataframe tbody tr th {\n",
              "        vertical-align: top;\n",
              "    }\n",
              "\n",
              "    .dataframe thead th {\n",
              "        text-align: right;\n",
              "    }\n",
              "</style>\n",
              "<table border=\"1\" class=\"dataframe\">\n",
              "  <thead>\n",
              "    <tr style=\"text-align: right;\">\n",
              "      <th></th>\n",
              "      <th>Magnitud</th>\n",
              "      <th>DateTime_</th>\n",
              "      <th>ErrTime</th>\n",
              "      <th>RMS</th>\n",
              "      <th>Az</th>\n",
              "      <th>Depth</th>\n",
              "      <th>ErrDepth</th>\n",
              "      <th>Ndef</th>\n",
              "      <th>Gap</th>\n",
              "      <th>mdist</th>\n",
              "      <th>Mdist_</th>\n",
              "    </tr>\n",
              "  </thead>\n",
              "  <tbody>\n",
              "    <tr>\n",
              "      <th>0</th>\n",
              "      <td>1.6</td>\n",
              "      <td>2017-10-07 10:00:00</td>\n",
              "      <td>2.18</td>\n",
              "      <td>0.19</td>\n",
              "      <td>81.0</td>\n",
              "      <td>21.6</td>\n",
              "      <td>12.7</td>\n",
              "      <td>9.0</td>\n",
              "      <td>189.0</td>\n",
              "      <td>0.02</td>\n",
              "      <td>0.20</td>\n",
              "    </tr>\n",
              "    <tr>\n",
              "      <th>1</th>\n",
              "      <td>0.0</td>\n",
              "      <td>2017-10-07 11:00:00</td>\n",
              "      <td>0.00</td>\n",
              "      <td>0.00</td>\n",
              "      <td>0.0</td>\n",
              "      <td>0.0</td>\n",
              "      <td>0.0</td>\n",
              "      <td>0.0</td>\n",
              "      <td>0.0</td>\n",
              "      <td>0.00</td>\n",
              "      <td>0.00</td>\n",
              "    </tr>\n",
              "    <tr>\n",
              "      <th>2</th>\n",
              "      <td>0.0</td>\n",
              "      <td>2017-10-07 12:00:00</td>\n",
              "      <td>0.00</td>\n",
              "      <td>0.00</td>\n",
              "      <td>0.0</td>\n",
              "      <td>0.0</td>\n",
              "      <td>0.0</td>\n",
              "      <td>0.0</td>\n",
              "      <td>0.0</td>\n",
              "      <td>0.00</td>\n",
              "      <td>0.00</td>\n",
              "    </tr>\n",
              "    <tr>\n",
              "      <th>3</th>\n",
              "      <td>2.7</td>\n",
              "      <td>2017-10-07 13:00:00</td>\n",
              "      <td>2.19</td>\n",
              "      <td>0.20</td>\n",
              "      <td>67.0</td>\n",
              "      <td>28.2</td>\n",
              "      <td>13.0</td>\n",
              "      <td>8.0</td>\n",
              "      <td>149.0</td>\n",
              "      <td>0.03</td>\n",
              "      <td>0.13</td>\n",
              "    </tr>\n",
              "    <tr>\n",
              "      <th>4</th>\n",
              "      <td>0.0</td>\n",
              "      <td>2017-10-07 14:00:00</td>\n",
              "      <td>0.00</td>\n",
              "      <td>0.00</td>\n",
              "      <td>0.0</td>\n",
              "      <td>0.0</td>\n",
              "      <td>0.0</td>\n",
              "      <td>0.0</td>\n",
              "      <td>0.0</td>\n",
              "      <td>0.00</td>\n",
              "      <td>0.00</td>\n",
              "    </tr>\n",
              "  </tbody>\n",
              "</table>\n",
              "</div>\n",
              "    <div class=\"colab-df-buttons\">\n",
              "\n",
              "  <div class=\"colab-df-container\">\n",
              "    <button class=\"colab-df-convert\" onclick=\"convertToInteractive('df-1762816a-b9a1-4862-ae8b-165ef67ad862')\"\n",
              "            title=\"Convert this dataframe to an interactive table.\"\n",
              "            style=\"display:none;\">\n",
              "\n",
              "  <svg xmlns=\"http://www.w3.org/2000/svg\" height=\"24px\" viewBox=\"0 -960 960 960\">\n",
              "    <path d=\"M120-120v-720h720v720H120Zm60-500h600v-160H180v160Zm220 220h160v-160H400v160Zm0 220h160v-160H400v160ZM180-400h160v-160H180v160Zm440 0h160v-160H620v160ZM180-180h160v-160H180v160Zm440 0h160v-160H620v160Z\"/>\n",
              "  </svg>\n",
              "    </button>\n",
              "\n",
              "  <style>\n",
              "    .colab-df-container {\n",
              "      display:flex;\n",
              "      gap: 12px;\n",
              "    }\n",
              "\n",
              "    .colab-df-convert {\n",
              "      background-color: #E8F0FE;\n",
              "      border: none;\n",
              "      border-radius: 50%;\n",
              "      cursor: pointer;\n",
              "      display: none;\n",
              "      fill: #1967D2;\n",
              "      height: 32px;\n",
              "      padding: 0 0 0 0;\n",
              "      width: 32px;\n",
              "    }\n",
              "\n",
              "    .colab-df-convert:hover {\n",
              "      background-color: #E2EBFA;\n",
              "      box-shadow: 0px 1px 2px rgba(60, 64, 67, 0.3), 0px 1px 3px 1px rgba(60, 64, 67, 0.15);\n",
              "      fill: #174EA6;\n",
              "    }\n",
              "\n",
              "    .colab-df-buttons div {\n",
              "      margin-bottom: 4px;\n",
              "    }\n",
              "\n",
              "    [theme=dark] .colab-df-convert {\n",
              "      background-color: #3B4455;\n",
              "      fill: #D2E3FC;\n",
              "    }\n",
              "\n",
              "    [theme=dark] .colab-df-convert:hover {\n",
              "      background-color: #434B5C;\n",
              "      box-shadow: 0px 1px 3px 1px rgba(0, 0, 0, 0.15);\n",
              "      filter: drop-shadow(0px 1px 2px rgba(0, 0, 0, 0.3));\n",
              "      fill: #FFFFFF;\n",
              "    }\n",
              "  </style>\n",
              "\n",
              "    <script>\n",
              "      const buttonEl =\n",
              "        document.querySelector('#df-1762816a-b9a1-4862-ae8b-165ef67ad862 button.colab-df-convert');\n",
              "      buttonEl.style.display =\n",
              "        google.colab.kernel.accessAllowed ? 'block' : 'none';\n",
              "\n",
              "      async function convertToInteractive(key) {\n",
              "        const element = document.querySelector('#df-1762816a-b9a1-4862-ae8b-165ef67ad862');\n",
              "        const dataTable =\n",
              "          await google.colab.kernel.invokeFunction('convertToInteractive',\n",
              "                                                    [key], {});\n",
              "        if (!dataTable) return;\n",
              "\n",
              "        const docLinkHtml = 'Like what you see? Visit the ' +\n",
              "          '<a target=\"_blank\" href=https://colab.research.google.com/notebooks/data_table.ipynb>data table notebook</a>'\n",
              "          + ' to learn more about interactive tables.';\n",
              "        element.innerHTML = '';\n",
              "        dataTable['output_type'] = 'display_data';\n",
              "        await google.colab.output.renderOutput(dataTable, element);\n",
              "        const docLink = document.createElement('div');\n",
              "        docLink.innerHTML = docLinkHtml;\n",
              "        element.appendChild(docLink);\n",
              "      }\n",
              "    </script>\n",
              "  </div>\n",
              "\n",
              "\n",
              "    <div id=\"df-a1d56939-31ce-4d3e-9bae-0ac73ec27351\">\n",
              "      <button class=\"colab-df-quickchart\" onclick=\"quickchart('df-a1d56939-31ce-4d3e-9bae-0ac73ec27351')\"\n",
              "                title=\"Suggest charts\"\n",
              "                style=\"display:none;\">\n",
              "\n",
              "<svg xmlns=\"http://www.w3.org/2000/svg\" height=\"24px\"viewBox=\"0 0 24 24\"\n",
              "     width=\"24px\">\n",
              "    <g>\n",
              "        <path d=\"M19 3H5c-1.1 0-2 .9-2 2v14c0 1.1.9 2 2 2h14c1.1 0 2-.9 2-2V5c0-1.1-.9-2-2-2zM9 17H7v-7h2v7zm4 0h-2V7h2v10zm4 0h-2v-4h2v4z\"/>\n",
              "    </g>\n",
              "</svg>\n",
              "      </button>\n",
              "\n",
              "<style>\n",
              "  .colab-df-quickchart {\n",
              "      --bg-color: #E8F0FE;\n",
              "      --fill-color: #1967D2;\n",
              "      --hover-bg-color: #E2EBFA;\n",
              "      --hover-fill-color: #174EA6;\n",
              "      --disabled-fill-color: #AAA;\n",
              "      --disabled-bg-color: #DDD;\n",
              "  }\n",
              "\n",
              "  [theme=dark] .colab-df-quickchart {\n",
              "      --bg-color: #3B4455;\n",
              "      --fill-color: #D2E3FC;\n",
              "      --hover-bg-color: #434B5C;\n",
              "      --hover-fill-color: #FFFFFF;\n",
              "      --disabled-bg-color: #3B4455;\n",
              "      --disabled-fill-color: #666;\n",
              "  }\n",
              "\n",
              "  .colab-df-quickchart {\n",
              "    background-color: var(--bg-color);\n",
              "    border: none;\n",
              "    border-radius: 50%;\n",
              "    cursor: pointer;\n",
              "    display: none;\n",
              "    fill: var(--fill-color);\n",
              "    height: 32px;\n",
              "    padding: 0;\n",
              "    width: 32px;\n",
              "  }\n",
              "\n",
              "  .colab-df-quickchart:hover {\n",
              "    background-color: var(--hover-bg-color);\n",
              "    box-shadow: 0 1px 2px rgba(60, 64, 67, 0.3), 0 1px 3px 1px rgba(60, 64, 67, 0.15);\n",
              "    fill: var(--button-hover-fill-color);\n",
              "  }\n",
              "\n",
              "  .colab-df-quickchart-complete:disabled,\n",
              "  .colab-df-quickchart-complete:disabled:hover {\n",
              "    background-color: var(--disabled-bg-color);\n",
              "    fill: var(--disabled-fill-color);\n",
              "    box-shadow: none;\n",
              "  }\n",
              "\n",
              "  .colab-df-spinner {\n",
              "    border: 2px solid var(--fill-color);\n",
              "    border-color: transparent;\n",
              "    border-bottom-color: var(--fill-color);\n",
              "    animation:\n",
              "      spin 1s steps(1) infinite;\n",
              "  }\n",
              "\n",
              "  @keyframes spin {\n",
              "    0% {\n",
              "      border-color: transparent;\n",
              "      border-bottom-color: var(--fill-color);\n",
              "      border-left-color: var(--fill-color);\n",
              "    }\n",
              "    20% {\n",
              "      border-color: transparent;\n",
              "      border-left-color: var(--fill-color);\n",
              "      border-top-color: var(--fill-color);\n",
              "    }\n",
              "    30% {\n",
              "      border-color: transparent;\n",
              "      border-left-color: var(--fill-color);\n",
              "      border-top-color: var(--fill-color);\n",
              "      border-right-color: var(--fill-color);\n",
              "    }\n",
              "    40% {\n",
              "      border-color: transparent;\n",
              "      border-right-color: var(--fill-color);\n",
              "      border-top-color: var(--fill-color);\n",
              "    }\n",
              "    60% {\n",
              "      border-color: transparent;\n",
              "      border-right-color: var(--fill-color);\n",
              "    }\n",
              "    80% {\n",
              "      border-color: transparent;\n",
              "      border-right-color: var(--fill-color);\n",
              "      border-bottom-color: var(--fill-color);\n",
              "    }\n",
              "    90% {\n",
              "      border-color: transparent;\n",
              "      border-bottom-color: var(--fill-color);\n",
              "    }\n",
              "  }\n",
              "</style>\n",
              "\n",
              "      <script>\n",
              "        async function quickchart(key) {\n",
              "          const quickchartButtonEl =\n",
              "            document.querySelector('#' + key + ' button');\n",
              "          quickchartButtonEl.disabled = true;  // To prevent multiple clicks.\n",
              "          quickchartButtonEl.classList.add('colab-df-spinner');\n",
              "          try {\n",
              "            const charts = await google.colab.kernel.invokeFunction(\n",
              "                'suggestCharts', [key], {});\n",
              "          } catch (error) {\n",
              "            console.error('Error during call to suggestCharts:', error);\n",
              "          }\n",
              "          quickchartButtonEl.classList.remove('colab-df-spinner');\n",
              "          quickchartButtonEl.classList.add('colab-df-quickchart-complete');\n",
              "        }\n",
              "        (() => {\n",
              "          let quickchartButtonEl =\n",
              "            document.querySelector('#df-a1d56939-31ce-4d3e-9bae-0ac73ec27351 button');\n",
              "          quickchartButtonEl.style.display =\n",
              "            google.colab.kernel.accessAllowed ? 'block' : 'none';\n",
              "        })();\n",
              "      </script>\n",
              "    </div>\n",
              "\n",
              "    </div>\n",
              "  </div>\n"
            ],
            "application/vnd.google.colaboratory.intrinsic+json": {
              "type": "dataframe",
              "variable_name": "data",
              "summary": "{\n  \"name\": \"data\",\n  \"rows\": 38085,\n  \"fields\": [\n    {\n      \"column\": \"Magnitud\",\n      \"properties\": {\n        \"dtype\": \"number\",\n        \"std\": 0.6987939506900593,\n        \"min\": 0.0,\n        \"max\": 5.1,\n        \"num_unique_values\": 48,\n        \"samples\": [\n          3.1,\n          4.3,\n          3.2\n        ],\n        \"semantic_type\": \"\",\n        \"description\": \"\"\n      }\n    },\n    {\n      \"column\": \"DateTime_\",\n      \"properties\": {\n        \"dtype\": \"object\",\n        \"num_unique_values\": 38085,\n        \"samples\": [\n          \"2021-09-19 21:00:00\",\n          \"2019-11-07 00:00:00\",\n          \"2021-09-05 19:00:00\"\n        ],\n        \"semantic_type\": \"\",\n        \"description\": \"\"\n      }\n    },\n    {\n      \"column\": \"ErrTime\",\n      \"properties\": {\n        \"dtype\": \"number\",\n        \"std\": 0.35753770550372177,\n        \"min\": 0.0,\n        \"max\": 6.31,\n        \"num_unique_values\": 262,\n        \"samples\": [\n          0.35,\n          0.79,\n          0.77\n        ],\n        \"semantic_type\": \"\",\n        \"description\": \"\"\n      }\n    },\n    {\n      \"column\": \"RMS\",\n      \"properties\": {\n        \"dtype\": \"number\",\n        \"std\": 0.1229340110898196,\n        \"min\": 0.0,\n        \"max\": 2.0,\n        \"num_unique_values\": 153,\n        \"samples\": [\n          1.37,\n          1.46,\n          1.8\n        ],\n        \"semantic_type\": \"\",\n        \"description\": \"\"\n      }\n    },\n    {\n      \"column\": \"Az\",\n      \"properties\": {\n        \"dtype\": \"number\",\n        \"std\": 22.250802945431655,\n        \"min\": 0.0,\n        \"max\": 178.0,\n        \"num_unique_values\": 155,\n        \"samples\": [\n          73.0,\n          129.0,\n          71.0\n        ],\n        \"semantic_type\": \"\",\n        \"description\": \"\"\n      }\n    },\n    {\n      \"column\": \"Depth\",\n      \"properties\": {\n        \"dtype\": \"number\",\n        \"std\": 5.285693365425218,\n        \"min\": 0.0,\n        \"max\": 91.5,\n        \"num_unique_values\": 393,\n        \"samples\": [\n          4.8,\n          36.1,\n          1.7\n        ],\n        \"semantic_type\": \"\",\n        \"description\": \"\"\n      }\n    },\n    {\n      \"column\": \"ErrDepth\",\n      \"properties\": {\n        \"dtype\": \"number\",\n        \"std\": 2.693092695930506,\n        \"min\": 0.0,\n        \"max\": 90.8,\n        \"num_unique_values\": 259,\n        \"samples\": [\n          20.0,\n          19.7,\n          12.3\n        ],\n        \"semantic_type\": \"\",\n        \"description\": \"\"\n      }\n    },\n    {\n      \"column\": \"Ndef\",\n      \"properties\": {\n        \"dtype\": \"number\",\n        \"std\": 7.080843827309378,\n        \"min\": 0.0,\n        \"max\": 80.0,\n        \"num_unique_values\": 69,\n        \"samples\": [\n          5.0,\n          9.0,\n          31.0\n        ],\n        \"semantic_type\": \"\",\n        \"description\": \"\"\n      }\n    },\n    {\n      \"column\": \"Gap\",\n      \"properties\": {\n        \"dtype\": \"number\",\n        \"std\": 43.662472955505045,\n        \"min\": 0.0,\n        \"max\": 348.0,\n        \"num_unique_values\": 274,\n        \"samples\": [\n          223.0,\n          200.0,\n          305.0\n        ],\n        \"semantic_type\": \"\",\n        \"description\": \"\"\n      }\n    },\n    {\n      \"column\": \"mdist\",\n      \"properties\": {\n        \"dtype\": \"number\",\n        \"std\": 0.018061900921189967,\n        \"min\": 0.0,\n        \"max\": 1.21,\n        \"num_unique_values\": 43,\n        \"samples\": [\n          0.32,\n          0.11,\n          0.92\n        ],\n        \"semantic_type\": \"\",\n        \"description\": \"\"\n      }\n    },\n    {\n      \"column\": \"Mdist_\",\n      \"properties\": {\n        \"dtype\": \"number\",\n        \"std\": 0.3236801707405856,\n        \"min\": 0.0,\n        \"max\": 4.28,\n        \"num_unique_values\": 207,\n        \"samples\": [\n          3.33,\n          0.18,\n          1.29\n        ],\n        \"semantic_type\": \"\",\n        \"description\": \"\"\n      }\n    }\n  ]\n}"
            }
          },
          "metadata": {},
          "execution_count": 6
        }
      ],
      "source": [
        "data.head()"
      ]
    },
    {
      "cell_type": "code",
      "execution_count": 7,
      "metadata": {
        "id": "Oc6ADkBHOGUx"
      },
      "outputs": [],
      "source": [
        "data = data.rename(columns={'DateTime_': 'Fecha'})\n"
      ]
    },
    {
      "cell_type": "code",
      "execution_count": 8,
      "metadata": {
        "id": "FM_TQbzsdizw"
      },
      "outputs": [],
      "source": [
        "# Normalización de los datos\n",
        "scaler = MinMaxScaler()\n",
        "data_scaled = scaler.fit_transform(data.drop(columns=['Fecha']))"
      ]
    },
    {
      "cell_type": "code",
      "execution_count": 9,
      "metadata": {
        "id": "SwGZav9Ndqgc"
      },
      "outputs": [],
      "source": [
        "# Definir secuencias de entrada para LSTM\n",
        "def create_sequences(data, seq_length):\n",
        "    X, y = [], []\n",
        "    for i in range(len(data) - seq_length):\n",
        "        X.append(data[i:i+seq_length, :])  # Incluye variables exógenas\n",
        "        y.append(data[i+seq_length, 0])  # Predecimos la actividad volcánica\n",
        "    return np.array(X), np.array(y)\n",
        "\n",
        "seq_length = 48  # Ventana de tiempo de 4 días\n",
        "X, y = create_sequences(data_scaled, seq_length)"
      ]
    },
    {
      "cell_type": "code",
      "execution_count": 10,
      "metadata": {
        "id": "sHs0LmSrduG7"
      },
      "outputs": [],
      "source": [
        "# Dividir en conjuntos de entrenamiento y prueba\n",
        "X_train, X_test, y_train, y_test = train_test_split(X, y, test_size=0.2, random_state=42, shuffle=False)"
      ]
    },
    {
      "cell_type": "code",
      "execution_count": 11,
      "metadata": {
        "colab": {
          "base_uri": "https://localhost:8080/"
        },
        "id": "hFye4Eepdx5n",
        "outputId": "b40f6840-a463-45b1-dc61-d5f904c6dc84"
      },
      "outputs": [
        {
          "output_type": "stream",
          "name": "stderr",
          "text": [
            "/usr/local/lib/python3.11/dist-packages/keras/src/layers/rnn/bidirectional.py:107: UserWarning: Do not pass an `input_shape`/`input_dim` argument to a layer. When using Sequential models, prefer using an `Input(shape)` object as the first layer in the model instead.\n",
            "  super().__init__(**kwargs)\n"
          ]
        }
      ],
      "source": [
        "# Construcción del modelo LSTM Bidireccional\n",
        "n_features = data.shape[1] - 1  # Número de features, excluyendo la columna objetivo\n",
        "\n",
        "# Asegúrate de que input_shape coincida con la forma de tus datos de entrada\n",
        "model = Sequential([\n",
        "    Bidirectional(LSTM(50, return_sequences=True, activation='relu'), input_shape=(seq_length, n_features)),  # Corrección aquí\n",
        "    Dropout(0.2),\n",
        "    #Bidirectional(LSTM(50, return_sequences=True, activation='relu')),\n",
        "    #Dropout(0.2),\n",
        "    Bidirectional(LSTM(50, activation='relu')),\n",
        "    Dropout(0.2),\n",
        "    Dense(1, activation='sigmoid')\n",
        "])"
      ]
    },
    {
      "cell_type": "code",
      "execution_count": 12,
      "metadata": {
        "id": "VScDKnI_d0UM"
      },
      "outputs": [],
      "source": [
        "# Compilación del modelo\n",
        "model.compile(optimizer='adam', loss='mse', metrics=['mae'])"
      ]
    },
    {
      "cell_type": "code",
      "execution_count": 13,
      "metadata": {
        "colab": {
          "base_uri": "https://localhost:8080/"
        },
        "id": "M7KZpXBkd29H",
        "outputId": "c6cee365-fc8c-4206-9c93-bd2a0fed0efc"
      },
      "outputs": [
        {
          "output_type": "stream",
          "name": "stdout",
          "text": [
            "Epoch 1/20\n",
            "\u001b[1m951/951\u001b[0m \u001b[32m━━━━━━━━━━━━━━━━━━━━\u001b[0m\u001b[37m\u001b[0m \u001b[1m86s\u001b[0m 82ms/step - loss: 0.0238 - mae: 0.0536 - val_loss: 0.0958 - val_mae: 0.1610\n",
            "Epoch 2/20\n",
            "\u001b[1m951/951\u001b[0m \u001b[32m━━━━━━━━━━━━━━━━━━━━\u001b[0m\u001b[37m\u001b[0m \u001b[1m80s\u001b[0m 80ms/step - loss: 0.0011 - mae: 0.0030 - val_loss: 0.0958 - val_mae: 0.1610\n",
            "Epoch 3/20\n",
            "\u001b[1m951/951\u001b[0m \u001b[32m━━━━━━━━━━━━━━━━━━━━\u001b[0m\u001b[37m\u001b[0m \u001b[1m82s\u001b[0m 86ms/step - loss: 9.5419e-04 - mae: 0.0027 - val_loss: 0.0958 - val_mae: 0.1610\n",
            "Epoch 4/20\n",
            "\u001b[1m951/951\u001b[0m \u001b[32m━━━━━━━━━━━━━━━━━━━━\u001b[0m\u001b[37m\u001b[0m \u001b[1m137s\u001b[0m 81ms/step - loss: 9.4654e-04 - mae: 0.0027 - val_loss: 0.0958 - val_mae: 0.1610\n",
            "Epoch 5/20\n",
            "\u001b[1m951/951\u001b[0m \u001b[32m━━━━━━━━━━━━━━━━━━━━\u001b[0m\u001b[37m\u001b[0m \u001b[1m84s\u001b[0m 83ms/step - loss: 8.5109e-04 - mae: 0.0024 - val_loss: 0.0958 - val_mae: 0.1610\n",
            "Epoch 6/20\n",
            "\u001b[1m951/951\u001b[0m \u001b[32m━━━━━━━━━━━━━━━━━━━━\u001b[0m\u001b[37m\u001b[0m \u001b[1m82s\u001b[0m 83ms/step - loss: 0.0010 - mae: 0.0028 - val_loss: 0.0958 - val_mae: 0.1610\n",
            "Epoch 7/20\n",
            "\u001b[1m951/951\u001b[0m \u001b[32m━━━━━━━━━━━━━━━━━━━━\u001b[0m\u001b[37m\u001b[0m \u001b[1m83s\u001b[0m 87ms/step - loss: 9.0390e-04 - mae: 0.0026 - val_loss: 0.0958 - val_mae: 0.1610\n",
            "Epoch 8/20\n",
            "\u001b[1m951/951\u001b[0m \u001b[32m━━━━━━━━━━━━━━━━━━━━\u001b[0m\u001b[37m\u001b[0m \u001b[1m138s\u001b[0m 83ms/step - loss: 7.8199e-04 - mae: 0.0022 - val_loss: 0.0958 - val_mae: 0.1610\n",
            "Epoch 9/20\n",
            "\u001b[1m951/951\u001b[0m \u001b[32m━━━━━━━━━━━━━━━━━━━━\u001b[0m\u001b[37m\u001b[0m \u001b[1m80s\u001b[0m 84ms/step - loss: 8.5741e-04 - mae: 0.0025 - val_loss: 0.0958 - val_mae: 0.1610\n",
            "Epoch 10/20\n",
            "\u001b[1m951/951\u001b[0m \u001b[32m━━━━━━━━━━━━━━━━━━━━\u001b[0m\u001b[37m\u001b[0m \u001b[1m80s\u001b[0m 82ms/step - loss: 0.0011 - mae: 0.0030 - val_loss: 0.0958 - val_mae: 0.1610\n",
            "Epoch 11/20\n",
            "\u001b[1m951/951\u001b[0m \u001b[32m━━━━━━━━━━━━━━━━━━━━\u001b[0m\u001b[37m\u001b[0m \u001b[1m78s\u001b[0m 82ms/step - loss: 8.9089e-04 - mae: 0.0025 - val_loss: 0.0958 - val_mae: 0.1610\n",
            "Epoch 12/20\n",
            "\u001b[1m951/951\u001b[0m \u001b[32m━━━━━━━━━━━━━━━━━━━━\u001b[0m\u001b[37m\u001b[0m \u001b[1m88s\u001b[0m 89ms/step - loss: 8.5214e-04 - mae: 0.0025 - val_loss: 0.0958 - val_mae: 0.1610\n",
            "Epoch 13/20\n",
            "\u001b[1m951/951\u001b[0m \u001b[32m━━━━━━━━━━━━━━━━━━━━\u001b[0m\u001b[37m\u001b[0m \u001b[1m136s\u001b[0m 83ms/step - loss: 9.4299e-04 - mae: 0.0027 - val_loss: 0.0958 - val_mae: 0.1610\n",
            "Epoch 14/20\n",
            "\u001b[1m951/951\u001b[0m \u001b[32m━━━━━━━━━━━━━━━━━━━━\u001b[0m\u001b[37m\u001b[0m \u001b[1m79s\u001b[0m 83ms/step - loss: 0.0010 - mae: 0.0028 - val_loss: 0.0958 - val_mae: 0.1610\n",
            "Epoch 15/20\n",
            "\u001b[1m951/951\u001b[0m \u001b[32m━━━━━━━━━━━━━━━━━━━━\u001b[0m\u001b[37m\u001b[0m \u001b[1m85s\u001b[0m 89ms/step - loss: 8.9782e-04 - mae: 0.0026 - val_loss: 0.0958 - val_mae: 0.1610\n",
            "Epoch 16/20\n",
            "\u001b[1m951/951\u001b[0m \u001b[32m━━━━━━━━━━━━━━━━━━━━\u001b[0m\u001b[37m\u001b[0m \u001b[1m81s\u001b[0m 85ms/step - loss: 8.7749e-04 - mae: 0.0025 - val_loss: 0.0958 - val_mae: 0.1610\n",
            "Epoch 17/20\n",
            "\u001b[1m951/951\u001b[0m \u001b[32m━━━━━━━━━━━━━━━━━━━━\u001b[0m\u001b[37m\u001b[0m \u001b[1m86s\u001b[0m 90ms/step - loss: 9.3647e-04 - mae: 0.0027 - val_loss: 0.0958 - val_mae: 0.1610\n",
            "Epoch 18/20\n",
            "\u001b[1m951/951\u001b[0m \u001b[32m━━━━━━━━━━━━━━━━━━━━\u001b[0m\u001b[37m\u001b[0m \u001b[1m136s\u001b[0m 83ms/step - loss: 8.4027e-04 - mae: 0.0024 - val_loss: 0.0958 - val_mae: 0.1610\n",
            "Epoch 19/20\n",
            "\u001b[1m951/951\u001b[0m \u001b[32m━━━━━━━━━━━━━━━━━━━━\u001b[0m\u001b[37m\u001b[0m \u001b[1m80s\u001b[0m 84ms/step - loss: 9.3480e-04 - mae: 0.0026 - val_loss: 0.0958 - val_mae: 0.1610\n",
            "Epoch 20/20\n",
            "\u001b[1m951/951\u001b[0m \u001b[32m━━━━━━━━━━━━━━━━━━━━\u001b[0m\u001b[37m\u001b[0m \u001b[1m82s\u001b[0m 84ms/step - loss: 9.6731e-04 - mae: 0.0028 - val_loss: 0.0958 - val_mae: 0.1610\n"
          ]
        }
      ],
      "source": [
        "# Entrenamiento del modelo\n",
        "#model.fit(X_train, y_train, epochs=20, batch_size=32, validation_data=(X_test, y_test))\n",
        "history = model.fit(X_train, y_train, epochs=20, batch_size=32, validation_data=(X_test, y_test))"
      ]
    },
    {
      "cell_type": "code",
      "execution_count": 14,
      "metadata": {
        "id": "q8gDUJWGo8W4"
      },
      "outputs": [],
      "source": [
        "def predict_for_dates(model, df, scaler, start_date, days_to_predict):\n",
        "    \"\"\" Predice la actividad volcánica para una serie de fechas futuras. \"\"\"\n",
        "    # Convert 'Fecha' column to datetime\n",
        "    df['Fecha'] = pd.to_datetime(df['Fecha'])\n",
        "\n",
        "    # Convert start_date to Timestamp before comparison\n",
        "    start_date = pd.to_datetime(start_date)\n",
        "    input_data = df[df['Fecha'] >= start_date].drop(columns=['Fecha']).values\n",
        "    input_scaled = scaler.transform(input_data)[-seq_length:]  # Últimos seq_length datos\n",
        "\n",
        "    predictions = []\n",
        "    current_input = np.array([input_scaled])  # Reshape para que coincida con el modelo\n",
        "\n",
        "    for _ in range(days_to_predict):\n",
        "        pred = model.predict(current_input)[0][0]\n",
        "        predictions.append(pred)\n",
        "\n",
        "        # Desplazar ventana de tiempo agregando la nueva predicción (usamos 0s en exógenas como ejemplo)\n",
        "        new_input = np.hstack([[pred], np.zeros(n_features)])\n",
        "        current_input = np.append(current_input[:, 1:, :], [[new_input]], axis=1)\n",
        "\n",
        "    return predictions"
      ]
    },
    {
      "cell_type": "code",
      "execution_count": 15,
      "metadata": {
        "id": "tedtiVBuCBzM"
      },
      "outputs": [],
      "source": [
        "# Predicción para fechas específicas\n",
        "def predict_for_dates(model, df, scaler, start_date, days_to_predict):\n",
        "    \"\"\" Predice la actividad volcánica para una serie de fechas futuras. \"\"\"\n",
        "    # Convert 'Fecha' column to datetime\n",
        "    df['Fecha'] = pd.to_datetime(df['Fecha'])\n",
        "\n",
        "    # Convert start_date to Timestamp before comparison\n",
        "    start_date = pd.to_datetime(start_date)\n",
        "    input_data = df[df['Fecha'] >= start_date].drop(columns=['Fecha']).values\n",
        "    input_scaled = scaler.transform(input_data)[-seq_length:]  # Últimos seq_length datos\n",
        "\n",
        "    predictions = []\n",
        "    current_input = np.array([input_scaled])  # Reshape para que coincida con el modelo\n",
        "\n",
        "    for _ in range(days_to_predict):\n",
        "        pred = model.predict(current_input)[0][0]\n",
        "        predictions.append(pred)\n",
        "\n",
        "        # Desplazar ventana de tiempo agregando la nueva predicción\n",
        "        # Reemplaza los valores anteriores en lugar de usar append\n",
        "        # Crea un nuevo input con la predicción y ceros para las otras features\n",
        "        new_input = np.hstack([[pred], np.zeros(n_features -1 )]) #n_features -1\n",
        "\n",
        "        # Actualiza current_input desplazando los valores y agregando la nueva entrada\n",
        "        current_input = np.roll(current_input, -1, axis=1)\n",
        "        current_input[0, -1, :] = new_input\n",
        "\n",
        "    return predictions"
      ]
    },
    {
      "cell_type": "code",
      "execution_count": 16,
      "metadata": {
        "id": "B4MMBnroCE4p",
        "colab": {
          "base_uri": "https://localhost:8080/"
        },
        "outputId": "eba25afb-4644-4b9d-aa4a-5a89ef590d8e"
      },
      "outputs": [
        {
          "output_type": "stream",
          "name": "stdout",
          "text": [
            "La última fecha en el conjunto de datos es: 2022-02-10 06:00:00\n"
          ]
        }
      ],
      "source": [
        "# Definir fechas para predecir\n",
        "start_date = data['Fecha'].max()\n",
        "print(f\"La última fecha en el conjunto de datos es: {start_date}\")\n",
        "days_to_predict = 12"
      ]
    },
    {
      "cell_type": "code",
      "execution_count": 17,
      "metadata": {
        "id": "mM7lui_sdSN_",
        "colab": {
          "base_uri": "https://localhost:8080/"
        },
        "outputId": "d27d2c09-df7b-4b95-8a1b-a1b37043aa47"
      },
      "outputs": [
        {
          "output_type": "stream",
          "name": "stderr",
          "text": [
            "/usr/local/lib/python3.11/dist-packages/sklearn/utils/validation.py:2739: UserWarning: X does not have valid feature names, but MinMaxScaler was fitted with feature names\n",
            "  warnings.warn(\n"
          ]
        },
        {
          "output_type": "stream",
          "name": "stdout",
          "text": [
            "\u001b[1m1/1\u001b[0m \u001b[32m━━━━━━━━━━━━━━━━━━━━\u001b[0m\u001b[37m\u001b[0m \u001b[1m1s\u001b[0m 711ms/step\n",
            "\u001b[1m1/1\u001b[0m \u001b[32m━━━━━━━━━━━━━━━━━━━━\u001b[0m\u001b[37m\u001b[0m \u001b[1m0s\u001b[0m 41ms/step\n",
            "\u001b[1m1/1\u001b[0m \u001b[32m━━━━━━━━━━━━━━━━━━━━\u001b[0m\u001b[37m\u001b[0m \u001b[1m0s\u001b[0m 38ms/step\n",
            "\u001b[1m1/1\u001b[0m \u001b[32m━━━━━━━━━━━━━━━━━━━━\u001b[0m\u001b[37m\u001b[0m \u001b[1m0s\u001b[0m 40ms/step\n",
            "\u001b[1m1/1\u001b[0m \u001b[32m━━━━━━━━━━━━━━━━━━━━\u001b[0m\u001b[37m\u001b[0m \u001b[1m0s\u001b[0m 44ms/step\n",
            "\u001b[1m1/1\u001b[0m \u001b[32m━━━━━━━━━━━━━━━━━━━━\u001b[0m\u001b[37m\u001b[0m \u001b[1m0s\u001b[0m 42ms/step\n",
            "\u001b[1m1/1\u001b[0m \u001b[32m━━━━━━━━━━━━━━━━━━━━\u001b[0m\u001b[37m\u001b[0m \u001b[1m0s\u001b[0m 40ms/step\n",
            "\u001b[1m1/1\u001b[0m \u001b[32m━━━━━━━━━━━━━━━━━━━━\u001b[0m\u001b[37m\u001b[0m \u001b[1m0s\u001b[0m 41ms/step\n",
            "\u001b[1m1/1\u001b[0m \u001b[32m━━━━━━━━━━━━━━━━━━━━\u001b[0m\u001b[37m\u001b[0m \u001b[1m0s\u001b[0m 38ms/step\n",
            "\u001b[1m1/1\u001b[0m \u001b[32m━━━━━━━━━━━━━━━━━━━━\u001b[0m\u001b[37m\u001b[0m \u001b[1m0s\u001b[0m 39ms/step\n",
            "\u001b[1m1/1\u001b[0m \u001b[32m━━━━━━━━━━━━━━━━━━━━\u001b[0m\u001b[37m\u001b[0m \u001b[1m0s\u001b[0m 46ms/step\n",
            "\u001b[1m1/1\u001b[0m \u001b[32m━━━━━━━━━━━━━━━━━━━━\u001b[0m\u001b[37m\u001b[0m \u001b[1m0s\u001b[0m 41ms/step\n",
            "                 Fecha  Predicción Actividad\n",
            "0  2022-02-10 06:00:00              0.448613\n",
            "1  2022-02-10 07:00:00              0.458938\n",
            "2  2022-02-10 08:00:00              0.458754\n",
            "3  2022-02-10 09:00:00              0.458757\n",
            "4  2022-02-10 10:00:00              0.458757\n",
            "5  2022-02-10 11:00:00              0.458757\n",
            "6  2022-02-10 12:00:00              0.458757\n",
            "7  2022-02-10 13:00:00              0.458757\n",
            "8  2022-02-10 14:00:00              0.458757\n",
            "9  2022-02-10 15:00:00              0.458757\n",
            "10 2022-02-10 16:00:00              0.458757\n",
            "11 2022-02-10 17:00:00              0.458757\n"
          ]
        },
        {
          "output_type": "stream",
          "name": "stderr",
          "text": [
            "<ipython-input-17-fe85a30d84ec>:5: FutureWarning: 'H' is deprecated and will be removed in a future version, please use 'h' instead.\n",
            "  future_dates = pd.date_range(start=start_date, periods=days_to_predict, freq=\"1H\")\n"
          ]
        }
      ],
      "source": [
        "# Obtener predicciones\n",
        "future_predictions = predict_for_dates(model, data, scaler, start_date, days_to_predict)\n",
        "\n",
        "# Mostrar resultados con fechas\n",
        "future_dates = pd.date_range(start=start_date, periods=days_to_predict, freq=\"1H\")\n",
        "predictions_df = pd.DataFrame({\"Fecha\": future_dates, \"Predicción Actividad\": future_predictions})\n",
        "\n",
        "print(predictions_df)"
      ]
    },
    {
      "cell_type": "code",
      "execution_count": 18,
      "metadata": {
        "id": "_ai71DfRyg2g",
        "colab": {
          "base_uri": "https://localhost:8080/"
        },
        "outputId": "18cd8cf5-3eff-488a-d20f-716a73accc1e"
      },
      "outputs": [
        {
          "output_type": "stream",
          "name": "stdout",
          "text": [
            "\u001b[1m238/238\u001b[0m \u001b[32m━━━━━━━━━━━━━━━━━━━━\u001b[0m\u001b[37m\u001b[0m \u001b[1m6s\u001b[0m 23ms/step\n",
            "Predicción de actividad volcánica: 0.0\n"
          ]
        }
      ],
      "source": [
        "# Predicción\n",
        "predictions = model.predict(X_test)\n",
        "\n",
        "# Mostrar una predicción de ejemplo\n",
        "print(f\"Predicción de actividad volcánica: {predictions[0][0]}\")"
      ]
    },
    {
      "cell_type": "code",
      "execution_count": 19,
      "metadata": {
        "id": "oeiouAgcOd1D",
        "colab": {
          "base_uri": "https://localhost:8080/"
        },
        "outputId": "4cea1ad2-3867-4945-c7b6-1e67d2ac7ce4"
      },
      "outputs": [
        {
          "output_type": "stream",
          "name": "stdout",
          "text": [
            "   Real  Predicho\n",
            "0   0.0       0.0\n",
            "1   0.0       0.0\n",
            "2   0.0       0.0\n",
            "3   0.0       0.0\n",
            "4   0.0       0.0\n",
            "5   0.0       0.0\n",
            "6   0.0       0.0\n",
            "7   0.0       0.0\n",
            "8   0.0       0.0\n",
            "9   0.0       0.0\n"
          ]
        }
      ],
      "source": [
        "# Crear un DataFrame con los primeros valores reales y predichos\n",
        "df_comparacion = pd.DataFrame({\"Real\": y_test.flatten(), \"Predicho\": predictions.flatten()})\n",
        "\n",
        "# Mostrar las primeras filas\n",
        "print(df_comparacion.head(10))  # Puedes cambiar 10 por otro número"
      ]
    },
    {
      "cell_type": "code",
      "execution_count": 20,
      "metadata": {
        "id": "Rt6jtibiOvgD",
        "colab": {
          "base_uri": "https://localhost:8080/"
        },
        "outputId": "de03c9c0-2a45-406e-8a6d-57d53f436531"
      },
      "outputs": [
        {
          "output_type": "stream",
          "name": "stdout",
          "text": [
            "MAE (Error Absoluto Medio): 0.1610\n",
            "MSE (Error Cuadrático Medio): 0.0958\n",
            "RMSE (Raíz del Error Cuadrático Medio): 0.3095\n",
            "R^2 (Coeficiente de Determinación): -0.3708\n"
          ]
        }
      ],
      "source": [
        "from sklearn.metrics import mean_absolute_error, mean_squared_error, r2_score\n",
        "import numpy as np\n",
        "\n",
        "# Calcular métricas de error\n",
        "mae = mean_absolute_error(y_test, predictions)\n",
        "mse = mean_squared_error(y_test, predictions)\n",
        "rmse = np.sqrt(mse)  # Raíz del error cuadrático medio\n",
        "r2 = r2_score(y_test, predictions)  # Coeficiente de determinación R^2\n",
        "\n",
        "# Mostrar los resultados\n",
        "print(f\"MAE (Error Absoluto Medio): {mae:.4f}\")\n",
        "print(f\"MSE (Error Cuadrático Medio): {mse:.4f}\")\n",
        "print(f\"RMSE (Raíz del Error Cuadrático Medio): {rmse:.4f}\")\n",
        "print(f\"R^2 (Coeficiente de Determinación): {r2:.4f}\")\n"
      ]
    },
    {
      "cell_type": "markdown",
      "metadata": {
        "id": "w8qq9tK0LTAh"
      },
      "source": [
        "###RNN y GRU"
      ]
    },
    {
      "cell_type": "code",
      "execution_count": 22,
      "metadata": {
        "id": "76nZASmgy2qx"
      },
      "outputs": [],
      "source": [
        "import numpy as np\n",
        "import pandas as pd\n",
        "import tensorflow as tf\n",
        "import matplotlib.pyplot as plt\n",
        "from tensorflow.keras.models import Sequential\n",
        "from tensorflow.keras.layers import SimpleRNN, GRU, Dense, Dropout\n",
        "from sklearn.preprocessing import MinMaxScaler\n",
        "from sklearn.model_selection import train_test_split\n",
        "from sklearn.metrics import mean_absolute_error, mean_squared_error, r2_score\n"
      ]
    },
    {
      "cell_type": "code",
      "execution_count": 23,
      "metadata": {
        "id": "4eHULRQG4wv6"
      },
      "outputs": [],
      "source": [
        "\n",
        "# Cargar datos\n",
        "data = pd.read_csv(\"Datos_Con1HResampled.csv\")\n",
        "data = data.rename(columns={'DateTime_': 'Fecha'})\n",
        "data['Fecha'] = pd.to_datetime(data['Fecha'])"
      ]
    },
    {
      "cell_type": "code",
      "execution_count": 24,
      "metadata": {
        "id": "kUhru6Tg4yBN"
      },
      "outputs": [],
      "source": [
        "# Mover la columna \"Magnitud\" a la posición 0\n",
        "magnitud_column = data['Magnitud']\n",
        "data = data.drop('Magnitud', axis=1)\n",
        "data.insert(0, 'Magnitud', magnitud_column)"
      ]
    },
    {
      "cell_type": "code",
      "execution_count": 25,
      "metadata": {
        "id": "ptxN4ea442O3"
      },
      "outputs": [],
      "source": [
        "# Normalización de los datos\n",
        "scaler = MinMaxScaler()\n",
        "data_scaled = scaler.fit_transform(data.drop(columns=['Fecha']))"
      ]
    },
    {
      "cell_type": "code",
      "execution_count": 26,
      "metadata": {
        "id": "Ibj3ZQGz45to"
      },
      "outputs": [],
      "source": [
        "# Función para crear secuencias de entrada\n",
        "def create_sequences(data, seq_length):\n",
        "    X, y = [], []\n",
        "    for i in range(len(data) - seq_length):\n",
        "        X.append(data[i:i+seq_length, :])\n",
        "        y.append(data[i+seq_length, 0])\n",
        "    return np.array(X), np.array(y)\n",
        "\n",
        "seq_length = 48  # Ventana de tiempo de 4 días\n",
        "X, y = create_sequences(data_scaled, seq_length)"
      ]
    },
    {
      "cell_type": "code",
      "execution_count": 27,
      "metadata": {
        "id": "gB8E0EQc48wO"
      },
      "outputs": [],
      "source": [
        "# Dividir en conjuntos de entrenamiento y prueba\n",
        "X_train, X_test, y_train, y_test = train_test_split(X, y, test_size=0.2, random_state=42, shuffle=False)\n",
        "\n",
        "n_features = data.shape[1] - 1  # Número de características (excluyendo 'Magnitud')"
      ]
    },
    {
      "cell_type": "code",
      "execution_count": 28,
      "metadata": {
        "id": "hBYPv3IA4_up",
        "colab": {
          "base_uri": "https://localhost:8080/"
        },
        "outputId": "26e86c2a-5a33-4322-cf8f-265e3d1b1406"
      },
      "outputs": [
        {
          "output_type": "stream",
          "name": "stderr",
          "text": [
            "/usr/local/lib/python3.11/dist-packages/keras/src/layers/rnn/rnn.py:200: UserWarning: Do not pass an `input_shape`/`input_dim` argument to a layer. When using Sequential models, prefer using an `Input(shape)` object as the first layer in the model instead.\n",
            "  super().__init__(**kwargs)\n"
          ]
        }
      ],
      "source": [
        "\n",
        "# Modelo RNN\n",
        "model_rnn = Sequential([\n",
        "    SimpleRNN(50, return_sequences=True, activation='relu', input_shape=(seq_length, n_features)),\n",
        "    Dropout(0.2),\n",
        "    #SimpleRNN(50, return_sequences=True, activation='relu'),\n",
        "    #Dropout(0.2),\n",
        "    SimpleRNN(50, activation='relu'),\n",
        "    Dropout(0.2),\n",
        "    Dense(1)\n",
        "])"
      ]
    },
    {
      "cell_type": "code",
      "execution_count": 29,
      "metadata": {
        "id": "5XU30gzS5CQb"
      },
      "outputs": [],
      "source": [
        "# Modelo GRU\n",
        "model_gru = Sequential([\n",
        "    GRU(50, return_sequences=True, activation='relu', input_shape=(seq_length, n_features)),\n",
        "    Dropout(0.2),\n",
        "    #GRU(50, return_sequences=True, activation='relu'),\n",
        "    #Dropout(0.2),\n",
        "    GRU(50, activation='relu'),\n",
        "    Dropout(0.2),\n",
        "    Dense(1)\n",
        "])"
      ]
    },
    {
      "cell_type": "code",
      "execution_count": 30,
      "metadata": {
        "id": "-V-WGgeM5FS7",
        "colab": {
          "base_uri": "https://localhost:8080/"
        },
        "outputId": "720e5df6-9c9f-4daf-ad16-c126d913e5e1"
      },
      "outputs": [
        {
          "output_type": "stream",
          "name": "stdout",
          "text": [
            "Entrenando modelo RNN...\n",
            "Epoch 1/20\n",
            "\u001b[1m951/951\u001b[0m \u001b[32m━━━━━━━━━━━━━━━━━━━━\u001b[0m\u001b[37m\u001b[0m \u001b[1m29s\u001b[0m 27ms/step - loss: 9.6972e-04 - mae: 0.0059 - val_loss: 0.0577 - val_mae: 0.1316\n",
            "Epoch 2/20\n",
            "\u001b[1m951/951\u001b[0m \u001b[32m━━━━━━━━━━━━━━━━━━━━\u001b[0m\u001b[37m\u001b[0m \u001b[1m22s\u001b[0m 23ms/step - loss: 7.3049e-04 - mae: 0.0043 - val_loss: 0.0732 - val_mae: 0.1449\n",
            "Epoch 3/20\n",
            "\u001b[1m951/951\u001b[0m \u001b[32m━━━━━━━━━━━━━━━━━━━━\u001b[0m\u001b[37m\u001b[0m \u001b[1m41s\u001b[0m 23ms/step - loss: 8.6370e-04 - mae: 0.0053 - val_loss: 0.0673 - val_mae: 0.1409\n",
            "Epoch 4/20\n",
            "\u001b[1m951/951\u001b[0m \u001b[32m━━━━━━━━━━━━━━━━━━━━\u001b[0m\u001b[37m\u001b[0m \u001b[1m41s\u001b[0m 23ms/step - loss: 7.3706e-04 - mae: 0.0047 - val_loss: 0.0502 - val_mae: 0.1252\n",
            "Epoch 5/20\n",
            "\u001b[1m951/951\u001b[0m \u001b[32m━━━━━━━━━━━━━━━━━━━━\u001b[0m\u001b[37m\u001b[0m \u001b[1m40s\u001b[0m 23ms/step - loss: 7.6974e-04 - mae: 0.0049 - val_loss: 0.0639 - val_mae: 0.1367\n",
            "Epoch 6/20\n",
            "\u001b[1m951/951\u001b[0m \u001b[32m━━━━━━━━━━━━━━━━━━━━\u001b[0m\u001b[37m\u001b[0m \u001b[1m42s\u001b[0m 24ms/step - loss: 7.1155e-04 - mae: 0.0043 - val_loss: 0.0732 - val_mae: 0.1456\n",
            "Epoch 7/20\n",
            "\u001b[1m951/951\u001b[0m \u001b[32m━━━━━━━━━━━━━━━━━━━━\u001b[0m\u001b[37m\u001b[0m \u001b[1m43s\u001b[0m 26ms/step - loss: 6.7692e-04 - mae: 0.0042 - val_loss: 0.0487 - val_mae: 0.1239\n",
            "Epoch 8/20\n",
            "\u001b[1m951/951\u001b[0m \u001b[32m━━━━━━━━━━━━━━━━━━━━\u001b[0m\u001b[37m\u001b[0m \u001b[1m38s\u001b[0m 22ms/step - loss: 7.5788e-04 - mae: 0.0045 - val_loss: 0.0670 - val_mae: 0.1405\n",
            "Epoch 9/20\n",
            "\u001b[1m951/951\u001b[0m \u001b[32m━━━━━━━━━━━━━━━━━━━━\u001b[0m\u001b[37m\u001b[0m \u001b[1m42s\u001b[0m 23ms/step - loss: 8.6178e-04 - mae: 0.0049 - val_loss: 0.0574 - val_mae: 0.1316\n",
            "Epoch 10/20\n",
            "\u001b[1m951/951\u001b[0m \u001b[32m━━━━━━━━━━━━━━━━━━━━\u001b[0m\u001b[37m\u001b[0m \u001b[1m42s\u001b[0m 25ms/step - loss: 7.9786e-04 - mae: 0.0047 - val_loss: 0.0436 - val_mae: 0.1183\n",
            "Epoch 11/20\n",
            "\u001b[1m951/951\u001b[0m \u001b[32m━━━━━━━━━━━━━━━━━━━━\u001b[0m\u001b[37m\u001b[0m \u001b[1m22s\u001b[0m 24ms/step - loss: 7.0707e-04 - mae: 0.0042 - val_loss: 0.0508 - val_mae: 0.1260\n",
            "Epoch 12/20\n",
            "\u001b[1m951/951\u001b[0m \u001b[32m━━━━━━━━━━━━━━━━━━━━\u001b[0m\u001b[37m\u001b[0m \u001b[1m22s\u001b[0m 24ms/step - loss: 6.6645e-04 - mae: 0.0041 - val_loss: 0.0634 - val_mae: 0.1377\n",
            "Epoch 13/20\n",
            "\u001b[1m951/951\u001b[0m \u001b[32m━━━━━━━━━━━━━━━━━━━━\u001b[0m\u001b[37m\u001b[0m \u001b[1m41s\u001b[0m 24ms/step - loss: 7.5221e-04 - mae: 0.0044 - val_loss: 0.0406 - val_mae: 0.1177\n",
            "Epoch 14/20\n",
            "\u001b[1m951/951\u001b[0m \u001b[32m━━━━━━━━━━━━━━━━━━━━\u001b[0m\u001b[37m\u001b[0m \u001b[1m41s\u001b[0m 24ms/step - loss: 7.8550e-04 - mae: 0.0051 - val_loss: 0.0570 - val_mae: 0.1308\n",
            "Epoch 15/20\n",
            "\u001b[1m951/951\u001b[0m \u001b[32m━━━━━━━━━━━━━━━━━━━━\u001b[0m\u001b[37m\u001b[0m \u001b[1m23s\u001b[0m 24ms/step - loss: 7.4051e-04 - mae: 0.0044 - val_loss: 0.0416 - val_mae: 0.1156\n",
            "Epoch 16/20\n",
            "\u001b[1m951/951\u001b[0m \u001b[32m━━━━━━━━━━━━━━━━━━━━\u001b[0m\u001b[37m\u001b[0m \u001b[1m41s\u001b[0m 24ms/step - loss: 7.6494e-04 - mae: 0.0044 - val_loss: 0.0502 - val_mae: 0.1240\n",
            "Epoch 17/20\n",
            "\u001b[1m951/951\u001b[0m \u001b[32m━━━━━━━━━━━━━━━━━━━━\u001b[0m\u001b[37m\u001b[0m \u001b[1m43s\u001b[0m 26ms/step - loss: 7.1056e-04 - mae: 0.0044 - val_loss: 0.0504 - val_mae: 0.1241\n",
            "Epoch 18/20\n",
            "\u001b[1m951/951\u001b[0m \u001b[32m━━━━━━━━━━━━━━━━━━━━\u001b[0m\u001b[37m\u001b[0m \u001b[1m39s\u001b[0m 24ms/step - loss: 7.4075e-04 - mae: 0.0044 - val_loss: 0.0427 - val_mae: 0.1140\n",
            "Epoch 19/20\n",
            "\u001b[1m951/951\u001b[0m \u001b[32m━━━━━━━━━━━━━━━━━━━━\u001b[0m\u001b[37m\u001b[0m \u001b[1m42s\u001b[0m 25ms/step - loss: 6.4681e-04 - mae: 0.0039 - val_loss: 0.0573 - val_mae: 0.1332\n",
            "Epoch 20/20\n",
            "\u001b[1m951/951\u001b[0m \u001b[32m━━━━━━━━━━━━━━━━━━━━\u001b[0m\u001b[37m\u001b[0m \u001b[1m22s\u001b[0m 23ms/step - loss: 6.2345e-04 - mae: 0.0041 - val_loss: 0.0545 - val_mae: 0.1281\n",
            "Entrenando modelo GRU...\n",
            "Epoch 1/20\n",
            "\u001b[1m951/951\u001b[0m \u001b[32m━━━━━━━━━━━━━━━━━━━━\u001b[0m\u001b[37m\u001b[0m \u001b[1m65s\u001b[0m 63ms/step - loss: 8.2571e-04 - mae: 0.0055 - val_loss: 0.0360 - val_mae: 0.1077\n",
            "Epoch 2/20\n",
            "\u001b[1m951/951\u001b[0m \u001b[32m━━━━━━━━━━━━━━━━━━━━\u001b[0m\u001b[37m\u001b[0m \u001b[1m83s\u001b[0m 64ms/step - loss: 7.6652e-04 - mae: 0.0048 - val_loss: 0.0451 - val_mae: 0.1187\n",
            "Epoch 3/20\n",
            "\u001b[1m951/951\u001b[0m \u001b[32m━━━━━━━━━━━━━━━━━━━━\u001b[0m\u001b[37m\u001b[0m \u001b[1m80s\u001b[0m 61ms/step - loss: 7.0797e-04 - mae: 0.0043 - val_loss: 0.0486 - val_mae: 0.1237\n",
            "Epoch 4/20\n",
            "\u001b[1m951/951\u001b[0m \u001b[32m━━━━━━━━━━━━━━━━━━━━\u001b[0m\u001b[37m\u001b[0m \u001b[1m83s\u001b[0m 63ms/step - loss: 7.5350e-04 - mae: 0.0047 - val_loss: 0.0640 - val_mae: 0.1366\n",
            "Epoch 5/20\n",
            "\u001b[1m951/951\u001b[0m \u001b[32m━━━━━━━━━━━━━━━━━━━━\u001b[0m\u001b[37m\u001b[0m \u001b[1m80s\u001b[0m 61ms/step - loss: 7.6362e-04 - mae: 0.0047 - val_loss: 0.0436 - val_mae: 0.1179\n",
            "Epoch 6/20\n",
            "\u001b[1m951/951\u001b[0m \u001b[32m━━━━━━━━━━━━━━━━━━━━\u001b[0m\u001b[37m\u001b[0m \u001b[1m84s\u001b[0m 63ms/step - loss: 7.8310e-04 - mae: 0.0048 - val_loss: 0.0410 - val_mae: 0.1136\n",
            "Epoch 7/20\n",
            "\u001b[1m951/951\u001b[0m \u001b[32m━━━━━━━━━━━━━━━━━━━━\u001b[0m\u001b[37m\u001b[0m \u001b[1m82s\u001b[0m 62ms/step - loss: 8.0276e-04 - mae: 0.0049 - val_loss: 0.0475 - val_mae: 0.1221\n",
            "Epoch 8/20\n",
            "\u001b[1m951/951\u001b[0m \u001b[32m━━━━━━━━━━━━━━━━━━━━\u001b[0m\u001b[37m\u001b[0m \u001b[1m82s\u001b[0m 63ms/step - loss: 6.7550e-04 - mae: 0.0042 - val_loss: 0.0396 - val_mae: 0.1117\n",
            "Epoch 9/20\n",
            "\u001b[1m951/951\u001b[0m \u001b[32m━━━━━━━━━━━━━━━━━━━━\u001b[0m\u001b[37m\u001b[0m \u001b[1m79s\u001b[0m 60ms/step - loss: 7.0918e-04 - mae: 0.0044 - val_loss: 0.0475 - val_mae: 0.1216\n",
            "Epoch 10/20\n",
            "\u001b[1m951/951\u001b[0m \u001b[32m━━━━━━━━━━━━━━━━━━━━\u001b[0m\u001b[37m\u001b[0m \u001b[1m83s\u001b[0m 61ms/step - loss: 7.6220e-04 - mae: 0.0046 - val_loss: 0.0471 - val_mae: 0.1228\n",
            "Epoch 11/20\n",
            "\u001b[1m951/951\u001b[0m \u001b[32m━━━━━━━━━━━━━━━━━━━━\u001b[0m\u001b[37m\u001b[0m \u001b[1m57s\u001b[0m 60ms/step - loss: 7.4683e-04 - mae: 0.0046 - val_loss: 0.0429 - val_mae: 0.1180\n",
            "Epoch 12/20\n",
            "\u001b[1m951/951\u001b[0m \u001b[32m━━━━━━━━━━━━━━━━━━━━\u001b[0m\u001b[37m\u001b[0m \u001b[1m60s\u001b[0m 63ms/step - loss: 6.4368e-04 - mae: 0.0043 - val_loss: 0.0488 - val_mae: 0.1216\n",
            "Epoch 13/20\n",
            "\u001b[1m951/951\u001b[0m \u001b[32m━━━━━━━━━━━━━━━━━━━━\u001b[0m\u001b[37m\u001b[0m \u001b[1m79s\u001b[0m 60ms/step - loss: 7.4507e-04 - mae: 0.0045 - val_loss: 0.0389 - val_mae: 0.1108\n",
            "Epoch 14/20\n",
            "\u001b[1m951/951\u001b[0m \u001b[32m━━━━━━━━━━━━━━━━━━━━\u001b[0m\u001b[37m\u001b[0m \u001b[1m60s\u001b[0m 63ms/step - loss: 7.1639e-04 - mae: 0.0044 - val_loss: 0.0628 - val_mae: 0.1366\n",
            "Epoch 15/20\n",
            "\u001b[1m951/951\u001b[0m \u001b[32m━━━━━━━━━━━━━━━━━━━━\u001b[0m\u001b[37m\u001b[0m \u001b[1m81s\u001b[0m 62ms/step - loss: 7.3933e-04 - mae: 0.0045 - val_loss: 0.0432 - val_mae: 0.1166\n",
            "Epoch 16/20\n",
            "\u001b[1m951/951\u001b[0m \u001b[32m━━━━━━━━━━━━━━━━━━━━\u001b[0m\u001b[37m\u001b[0m \u001b[1m80s\u001b[0m 60ms/step - loss: 7.9697e-04 - mae: 0.0049 - val_loss: 0.0398 - val_mae: 0.1121\n",
            "Epoch 17/20\n",
            "\u001b[1m951/951\u001b[0m \u001b[32m━━━━━━━━━━━━━━━━━━━━\u001b[0m\u001b[37m\u001b[0m \u001b[1m83s\u001b[0m 61ms/step - loss: 6.8535e-04 - mae: 0.0043 - val_loss: 0.0423 - val_mae: 0.1136\n",
            "Epoch 18/20\n",
            "\u001b[1m951/951\u001b[0m \u001b[32m━━━━━━━━━━━━━━━━━━━━\u001b[0m\u001b[37m\u001b[0m \u001b[1m83s\u001b[0m 62ms/step - loss: 7.0164e-04 - mae: 0.0043 - val_loss: 0.0382 - val_mae: 0.1101\n",
            "Epoch 19/20\n",
            "\u001b[1m951/951\u001b[0m \u001b[32m━━━━━━━━━━━━━━━━━━━━\u001b[0m\u001b[37m\u001b[0m \u001b[1m82s\u001b[0m 62ms/step - loss: 6.9285e-04 - mae: 0.0043 - val_loss: 0.0474 - val_mae: 0.1212\n",
            "Epoch 20/20\n",
            "\u001b[1m951/951\u001b[0m \u001b[32m━━━━━━━━━━━━━━━━━━━━\u001b[0m\u001b[37m\u001b[0m \u001b[1m83s\u001b[0m 63ms/step - loss: 7.1563e-04 - mae: 0.0043 - val_loss: 0.0526 - val_mae: 0.1250\n"
          ]
        }
      ],
      "source": [
        "# Compilar modelos\n",
        "\n",
        "\n",
        "\n",
        "\n",
        "\n",
        "\n",
        "\n",
        "\n",
        "\n",
        "\n",
        "\n",
        "\n",
        "\n",
        "\n",
        "\n",
        "\n",
        "\n",
        "\n",
        "\n",
        "\n",
        "\n",
        "\n",
        "\n",
        "\n",
        "\n",
        "\n",
        "\n",
        "\n",
        "\n",
        "\n",
        "\n",
        "\n",
        "\n",
        "\n",
        "\n",
        "for model, name in [(model_rnn, \"RNN\"), (model_gru, \"GRU\")]:\n",
        "    model.compile(optimizer='adam', loss='mse', metrics=['mae'])\n",
        "    print(f\"Entrenando modelo {name}...\")\n",
        "    model.fit(X_train, y_train, epochs=20, batch_size=32, validation_data=(X_test, y_test), verbose=1)"
      ]
    },
    {
      "cell_type": "code",
      "execution_count": 31,
      "metadata": {
        "id": "9-Do9nOw5JAh"
      },
      "outputs": [],
      "source": [
        "# Función para predecir fechas futuras\n",
        "def predict_for_dates(model, df, scaler, start_date, days_to_predict):\n",
        "    start_date = pd.to_datetime(start_date)\n",
        "    df['Fecha'] = pd.to_datetime(df['Fecha'])\n",
        "\n",
        "    input_data = df[df['Fecha'] >= start_date].drop(columns=['Fecha']).values\n",
        "    input_scaled = scaler.transform(input_data)[-seq_length:]\n",
        "\n",
        "    predictions = []\n",
        "    current_input = np.array([input_scaled])\n",
        "\n",
        "    for _ in range(days_to_predict):\n",
        "        pred = model.predict(current_input)[0][0]\n",
        "        predictions.append(pred)\n",
        "\n",
        "        new_input = np.hstack([[pred], np.zeros(n_features - 1)])\n",
        "        current_input = np.roll(current_input, -1, axis=1)\n",
        "        current_input[0, -1, :] = new_input\n",
        "\n",
        "    return predictions"
      ]
    },
    {
      "cell_type": "code",
      "execution_count": 32,
      "metadata": {
        "id": "U9ieBQjd5MIP",
        "colab": {
          "base_uri": "https://localhost:8080/"
        },
        "outputId": "0d78830b-9378-4546-badb-0ddcaa2310fb"
      },
      "outputs": [
        {
          "output_type": "stream",
          "name": "stdout",
          "text": [
            "La última fecha en el conjunto de datos es: 2022-02-10 06:00:00\n"
          ]
        },
        {
          "output_type": "stream",
          "name": "stderr",
          "text": [
            "<ipython-input-32-cf83d07b427c>:5: FutureWarning: 'H' is deprecated and will be removed in a future version, please use 'h' instead.\n",
            "  future_dates = pd.date_range(start=start_date, periods=days_to_predict, freq=\"1H\")\n"
          ]
        }
      ],
      "source": [
        "# Definir fechas para predecir\n",
        "start_date = data['Fecha'].max()\n",
        "print(f\"La última fecha en el conjunto de datos es: {start_date}\")\n",
        "days_to_predict = 12\n",
        "future_dates = pd.date_range(start=start_date, periods=days_to_predict, freq=\"1H\")"
      ]
    },
    {
      "cell_type": "code",
      "execution_count": 33,
      "metadata": {
        "id": "6kj1gKyX5O8z",
        "colab": {
          "base_uri": "https://localhost:8080/"
        },
        "outputId": "50e65716-37e9-4a58-8630-21e1b9710dbc"
      },
      "outputs": [
        {
          "output_type": "stream",
          "name": "stderr",
          "text": [
            "/usr/local/lib/python3.11/dist-packages/sklearn/utils/validation.py:2739: UserWarning: X does not have valid feature names, but MinMaxScaler was fitted with feature names\n",
            "  warnings.warn(\n"
          ]
        },
        {
          "output_type": "stream",
          "name": "stdout",
          "text": [
            "\u001b[1m1/1\u001b[0m \u001b[32m━━━━━━━━━━━━━━━━━━━━\u001b[0m\u001b[37m\u001b[0m \u001b[1m0s\u001b[0m 332ms/step\n",
            "\u001b[1m1/1\u001b[0m \u001b[32m━━━━━━━━━━━━━━━━━━━━\u001b[0m\u001b[37m\u001b[0m \u001b[1m0s\u001b[0m 45ms/step\n",
            "\u001b[1m1/1\u001b[0m \u001b[32m━━━━━━━━━━━━━━━━━━━━\u001b[0m\u001b[37m\u001b[0m \u001b[1m0s\u001b[0m 43ms/step\n",
            "\u001b[1m1/1\u001b[0m \u001b[32m━━━━━━━━━━━━━━━━━━━━\u001b[0m\u001b[37m\u001b[0m \u001b[1m0s\u001b[0m 44ms/step\n",
            "\u001b[1m1/1\u001b[0m \u001b[32m━━━━━━━━━━━━━━━━━━━━\u001b[0m\u001b[37m\u001b[0m \u001b[1m0s\u001b[0m 50ms/step\n",
            "\u001b[1m1/1\u001b[0m \u001b[32m━━━━━━━━━━━━━━━━━━━━\u001b[0m\u001b[37m\u001b[0m \u001b[1m0s\u001b[0m 44ms/step\n",
            "\u001b[1m1/1\u001b[0m \u001b[32m━━━━━━━━━━━━━━━━━━━━\u001b[0m\u001b[37m\u001b[0m \u001b[1m0s\u001b[0m 48ms/step\n",
            "\u001b[1m1/1\u001b[0m \u001b[32m━━━━━━━━━━━━━━━━━━━━\u001b[0m\u001b[37m\u001b[0m \u001b[1m0s\u001b[0m 46ms/step\n",
            "\u001b[1m1/1\u001b[0m \u001b[32m━━━━━━━━━━━━━━━━━━━━\u001b[0m\u001b[37m\u001b[0m \u001b[1m0s\u001b[0m 46ms/step\n",
            "\u001b[1m1/1\u001b[0m \u001b[32m━━━━━━━━━━━━━━━━━━━━\u001b[0m\u001b[37m\u001b[0m \u001b[1m0s\u001b[0m 59ms/step\n",
            "\u001b[1m1/1\u001b[0m \u001b[32m━━━━━━━━━━━━━━━━━━━━\u001b[0m\u001b[37m\u001b[0m \u001b[1m0s\u001b[0m 42ms/step\n",
            "\u001b[1m1/1\u001b[0m \u001b[32m━━━━━━━━━━━━━━━━━━━━\u001b[0m\u001b[37m\u001b[0m \u001b[1m0s\u001b[0m 44ms/step\n"
          ]
        },
        {
          "output_type": "stream",
          "name": "stderr",
          "text": [
            "/usr/local/lib/python3.11/dist-packages/sklearn/utils/validation.py:2739: UserWarning: X does not have valid feature names, but MinMaxScaler was fitted with feature names\n",
            "  warnings.warn(\n"
          ]
        },
        {
          "output_type": "stream",
          "name": "stdout",
          "text": [
            "\u001b[1m1/1\u001b[0m \u001b[32m━━━━━━━━━━━━━━━━━━━━\u001b[0m\u001b[37m\u001b[0m \u001b[1m0s\u001b[0m 450ms/step\n",
            "\u001b[1m1/1\u001b[0m \u001b[32m━━━━━━━━━━━━━━━━━━━━\u001b[0m\u001b[37m\u001b[0m \u001b[1m0s\u001b[0m 39ms/step\n",
            "\u001b[1m1/1\u001b[0m \u001b[32m━━━━━━━━━━━━━━━━━━━━\u001b[0m\u001b[37m\u001b[0m \u001b[1m0s\u001b[0m 40ms/step\n",
            "\u001b[1m1/1\u001b[0m \u001b[32m━━━━━━━━━━━━━━━━━━━━\u001b[0m\u001b[37m\u001b[0m \u001b[1m0s\u001b[0m 56ms/step\n",
            "\u001b[1m1/1\u001b[0m \u001b[32m━━━━━━━━━━━━━━━━━━━━\u001b[0m\u001b[37m\u001b[0m \u001b[1m0s\u001b[0m 41ms/step\n",
            "\u001b[1m1/1\u001b[0m \u001b[32m━━━━━━━━━━━━━━━━━━━━\u001b[0m\u001b[37m\u001b[0m \u001b[1m0s\u001b[0m 39ms/step\n",
            "\u001b[1m1/1\u001b[0m \u001b[32m━━━━━━━━━━━━━━━━━━━━\u001b[0m\u001b[37m\u001b[0m \u001b[1m0s\u001b[0m 41ms/step\n",
            "\u001b[1m1/1\u001b[0m \u001b[32m━━━━━━━━━━━━━━━━━━━━\u001b[0m\u001b[37m\u001b[0m \u001b[1m0s\u001b[0m 43ms/step\n",
            "\u001b[1m1/1\u001b[0m \u001b[32m━━━━━━━━━━━━━━━━━━━━\u001b[0m\u001b[37m\u001b[0m \u001b[1m0s\u001b[0m 43ms/step\n",
            "\u001b[1m1/1\u001b[0m \u001b[32m━━━━━━━━━━━━━━━━━━━━\u001b[0m\u001b[37m\u001b[0m \u001b[1m0s\u001b[0m 40ms/step\n",
            "\u001b[1m1/1\u001b[0m \u001b[32m━━━━━━━━━━━━━━━━━━━━\u001b[0m\u001b[37m\u001b[0m \u001b[1m0s\u001b[0m 43ms/step\n",
            "\u001b[1m1/1\u001b[0m \u001b[32m━━━━━━━━━━━━━━━━━━━━\u001b[0m\u001b[37m\u001b[0m \u001b[1m0s\u001b[0m 40ms/step\n",
            "                 Fecha  Predicción RNN  Predicción GRU\n",
            "0  2022-02-10 06:00:00        0.144825        0.048981\n",
            "1  2022-02-10 07:00:00        0.015008        0.001169\n",
            "2  2022-02-10 08:00:00        0.003662        0.001168\n",
            "3  2022-02-10 09:00:00        0.003100        0.001168\n",
            "4  2022-02-10 10:00:00        0.003082        0.001168\n",
            "5  2022-02-10 11:00:00        0.003081        0.001168\n",
            "6  2022-02-10 12:00:00        0.003081        0.001168\n",
            "7  2022-02-10 13:00:00        0.003081        0.001168\n",
            "8  2022-02-10 14:00:00        0.003081        0.001168\n",
            "9  2022-02-10 15:00:00        0.003081        0.001168\n",
            "10 2022-02-10 16:00:00        0.003081        0.001168\n",
            "11 2022-02-10 17:00:00        0.003081        0.001168\n"
          ]
        }
      ],
      "source": [
        "# Obtener predicciones para ambos modelos\n",
        "future_predictions_rnn = predict_for_dates(model_rnn, data, scaler, start_date, days_to_predict)\n",
        "future_predictions_gru = predict_for_dates(model_gru, data, scaler, start_date, days_to_predict)\n",
        "\n",
        "# Crear DataFrame con predicciones\n",
        "predictions_df = pd.DataFrame({\n",
        "    \"Fecha\": future_dates,\n",
        "    \"Predicción RNN\": future_predictions_rnn,\n",
        "    \"Predicción GRU\": future_predictions_gru\n",
        "})\n",
        "\n",
        "print(predictions_df)"
      ]
    },
    {
      "cell_type": "code",
      "execution_count": 34,
      "metadata": {
        "id": "ocsiBtz05RwY",
        "colab": {
          "base_uri": "https://localhost:8080/"
        },
        "outputId": "05928fd7-efbd-462c-d0ae-83cc25276919"
      },
      "outputs": [
        {
          "output_type": "stream",
          "name": "stdout",
          "text": [
            "\u001b[1m238/238\u001b[0m \u001b[32m━━━━━━━━━━━━━━━━━━━━\u001b[0m\u001b[37m\u001b[0m \u001b[1m2s\u001b[0m 6ms/step\n",
            "\n",
            "Métricas para RNN:\n",
            "MAE: 0.1281\n",
            "MSE: 0.0545\n",
            "RMSE: 0.2334\n",
            "R²: 0.2202\n",
            "\u001b[1m238/238\u001b[0m \u001b[32m━━━━━━━━━━━━━━━━━━━━\u001b[0m\u001b[37m\u001b[0m \u001b[1m4s\u001b[0m 16ms/step\n",
            "\n",
            "Métricas para GRU:\n",
            "MAE: 0.1250\n",
            "MSE: 0.0526\n",
            "RMSE: 0.2293\n",
            "R²: 0.2473\n"
          ]
        }
      ],
      "source": [
        "# Evaluar modelos con métricas\n",
        "for model, name in [(model_rnn, \"RNN\"), (model_gru, \"GRU\")]:\n",
        "    predictions = model.predict(X_test)\n",
        "\n",
        "    mae = mean_absolute_error(y_test, predictions)\n",
        "    mse = mean_squared_error(y_test, predictions)\n",
        "    rmse = np.sqrt(mse)\n",
        "    r2 = r2_score(y_test, predictions)\n",
        "\n",
        "    print(f\"\\nMétricas para {name}:\")\n",
        "    print(f\"MAE: {mae:.4f}\")\n",
        "    print(f\"MSE: {mse:.4f}\")\n",
        "    print(f\"RMSE: {rmse:.4f}\")\n",
        "    print(f\"R²: {r2:.4f}\")"
      ]
    }
  ],
  "metadata": {
    "colab": {
      "provenance": []
    },
    "kernelspec": {
      "display_name": "Python 3",
      "name": "python3"
    },
    "language_info": {
      "name": "python"
    }
  },
  "nbformat": 4,
  "nbformat_minor": 0
}